{
 "cells": [
  {
   "cell_type": "markdown",
   "id": "632bc013-224b-489a-98e0-8ef6e564024a",
   "metadata": {},
   "source": [
    "MULTIPLE LINEAR REGRESSION"
   ]
  },
  {
   "cell_type": "code",
   "execution_count": 1,
   "id": "2df9c6f2-2738-443e-bca9-0878236c81b5",
   "metadata": {},
   "outputs": [
    {
     "name": "stdout",
     "output_type": "stream",
     "text": [
      "   education_level  qualification  position  work_hours  age  experience  \\\n",
      "0               10              0         2          40   30           5   \n",
      "1                9              1         3          45   35          10   \n",
      "2               12              0         1          35   40          15   \n",
      "3               10              1         3          40   28           8   \n",
      "4               11              0         2          37   32          12   \n",
      "5                9              1         1          50   45          20   \n",
      "6               12              1         1          45   37          17   \n",
      "\n",
      "   gender  location  \n",
      "0       0         0  \n",
      "1       1         1  \n",
      "2       0         0  \n",
      "3       1         1  \n",
      "4       0         1  \n",
      "5       1         0  \n",
      "6       0         0  \n",
      "The predicted salary for the new employee is $51501\n",
      "Mean Absolute Error: 0.00\n",
      "Mean Squared Error: 0.00\n",
      "R-Squared: 1.00\n"
     ]
    }
   ],
   "source": [
    "import pandas as pd\n",
    "import numpy as np\n",
    "from sklearn.linear_model import LinearRegression\n",
    "from sklearn.metrics import mean_absolute_error, mean_squared_error, r2_score\n",
    "\n",
    "# Create a sample dataset\n",
    "df = pd.DataFrame({\n",
    "    'education_level': [10, 9, 12, 10, 11, 9, 12],\n",
    "    'qualification': [0, 1, 0, 1, 0, 1, 1],\n",
    "    'position': [2, 3, 1, 3, 2, 1, 1],\n",
    "    'work_hours': [40, 45, 35, 40, 37, 50, 45],\n",
    "    'age': [30, 35, 40, 28, 32, 45, 37],\n",
    "    'experience': [5, 10, 15, 8, 12, 20, 17],\n",
    "    'gender': [0, 1, 0, 1, 0, 1, 0],\n",
    "    'location': [0, 1, 0, 1, 1, 0, 0],\n",
    "    'salary': [50000, 55000, 45000, 52000, 50000, 60000, 55000]\n",
    "})\n",
    "\n",
    "# Split the data into features (X) and target (y)\n",
    "X = df[['education_level', 'qualification', 'position', 'work_hours', 'age', 'experience', 'gender', 'location']]\n",
    "y = df['salary']\n",
    "\n",
    "# Fit the model to the data\n",
    "_mymodel = LinearRegression().fit(X, y)\n",
    "\n",
    "# Predict the salary for a new employee\n",
    "new_employee = np.array([[11, 0, 2, 38, 33, 14, 0, 1]])\n",
    "prediction = _mymodel.predict(new_employee)\n",
    "\n",
    "print(X)\n",
    "print(f\"The predicted salary for the new employee is ${int(prediction[0])}\")\n",
    "\n",
    "# Evaluate the model accuracy\n",
    "y_pred = _mymodel.predict(X)\n",
    "mae = mean_absolute_error(y, y_pred)\n",
    "mse = mean_squared_error(y, y_pred)\n",
    "r2 = r2_score(y, y_pred)\n",
    "\n",
    "print(f\"Mean Absolute Error: {mae:.2f}\")\n",
    "print(f\"Mean Squared Error: {mse:.2f}\")\n",
    "print(f\"R-Squared: {r2:.2f}\")"
   ]
  },
  {
   "cell_type": "code",
   "execution_count": null,
   "id": "0bc901d2-7c99-4d2c-bdfb-9d745a34109f",
   "metadata": {},
   "outputs": [],
   "source": []
  }
 ],
 "metadata": {
  "kernelspec": {
   "display_name": "Python 3 (ipykernel)",
   "language": "python",
   "name": "python3"
  },
  "language_info": {
   "codemirror_mode": {
    "name": "ipython",
    "version": 3
   },
   "file_extension": ".py",
   "mimetype": "text/x-python",
   "name": "python",
   "nbconvert_exporter": "python",
   "pygments_lexer": "ipython3",
   "version": "3.9.7"
  }
 },
 "nbformat": 4,
 "nbformat_minor": 5
}
