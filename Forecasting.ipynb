{
 "cells": [
  {
   "cell_type": "markdown",
   "id": "aaacfac8-e5ae-4a70-9e9c-e880b11a1eb3",
   "metadata": {},
   "source": [
    "<b><font size=\"30\">INITIALIZATION</font></b>"
   ]
  },
  {
   "cell_type": "code",
   "execution_count": 8,
   "id": "36972f3a-0414-4328-a4c5-0bf07ca8d638",
   "metadata": {},
   "outputs": [
    {
     "data": {
      "text/html": [
       "<div>\n",
       "<style scoped>\n",
       "    .dataframe tbody tr th:only-of-type {\n",
       "        vertical-align: middle;\n",
       "    }\n",
       "\n",
       "    .dataframe tbody tr th {\n",
       "        vertical-align: top;\n",
       "    }\n",
       "\n",
       "    .dataframe thead th {\n",
       "        text-align: right;\n",
       "    }\n",
       "</style>\n",
       "<table border=\"1\" class=\"dataframe\">\n",
       "  <thead>\n",
       "    <tr style=\"text-align: right;\">\n",
       "      <th></th>\n",
       "      <th>ShortVolume</th>\n",
       "      <th>ShortExemptVolume</th>\n",
       "      <th>TotalVolume</th>\n",
       "    </tr>\n",
       "    <tr>\n",
       "      <th>Date</th>\n",
       "      <th></th>\n",
       "      <th></th>\n",
       "      <th></th>\n",
       "    </tr>\n",
       "  </thead>\n",
       "  <tbody>\n",
       "    <tr>\n",
       "      <th>2023-07-26</th>\n",
       "      <td>798544.0</td>\n",
       "      <td>27005.0</td>\n",
       "      <td>3866577.0</td>\n",
       "    </tr>\n",
       "    <tr>\n",
       "      <th>2023-07-27</th>\n",
       "      <td>411380.0</td>\n",
       "      <td>13657.0</td>\n",
       "      <td>2696068.0</td>\n",
       "    </tr>\n",
       "    <tr>\n",
       "      <th>2023-07-28</th>\n",
       "      <td>285628.0</td>\n",
       "      <td>13763.0</td>\n",
       "      <td>1501936.0</td>\n",
       "    </tr>\n",
       "    <tr>\n",
       "      <th>2023-07-31</th>\n",
       "      <td>208655.0</td>\n",
       "      <td>17314.0</td>\n",
       "      <td>992754.0</td>\n",
       "    </tr>\n",
       "    <tr>\n",
       "      <th>2023-08-01</th>\n",
       "      <td>117803.0</td>\n",
       "      <td>4911.0</td>\n",
       "      <td>1355334.0</td>\n",
       "    </tr>\n",
       "  </tbody>\n",
       "</table>\n",
       "</div>"
      ],
      "text/plain": [
       "            ShortVolume  ShortExemptVolume  TotalVolume\n",
       "Date                                                   \n",
       "2023-07-26     798544.0            27005.0    3866577.0\n",
       "2023-07-27     411380.0            13657.0    2696068.0\n",
       "2023-07-28     285628.0            13763.0    1501936.0\n",
       "2023-07-31     208655.0            17314.0     992754.0\n",
       "2023-08-01     117803.0             4911.0    1355334.0"
      ]
     },
     "execution_count": 8,
     "metadata": {},
     "output_type": "execute_result"
    }
   ],
   "source": [
    "import numpy as np\n",
    "import pandas as pd\n",
    "import quandl\n",
    "import math\n",
    "from sklearn import preprocessing\n",
    "from sklearn.linear_model import LinearRegression\n",
    "from sklearn.model_selection import train_test_split\n",
    "import matplotlib.pyplot as plt\n",
    "\n",
    "# Fetching data using Quandl\n",
    "df = quandl.get(\"FINRA/FNYX_GOOGL\", authtoken=\"knso8NxM2d6x_JtssaqB\")\n",
    "df.fillna(-99999, inplace=True)  # Handling missing values (outliers) in the dataset\n",
    "df.tail()"
   ]
  },
  {
   "cell_type": "markdown",
   "id": "f47618ab-70bf-4abe-a879-36230770ea86",
   "metadata": {},
   "source": [
    "<b><font size=\"30\">FORECAST</font></b>"
   ]
  },
  {
   "cell_type": "code",
   "execution_count": 9,
   "id": "8965ce1c-9958-409b-9dcb-f71fc926f035",
   "metadata": {},
   "outputs": [
    {
     "name": "stdout",
     "output_type": "stream",
     "text": [
      "Regression Model Accuracy: 0.37252118086538233\n",
      "\n",
      "Forecast Period (forecast_out): 3\n"
     ]
    },
    {
     "name": "stderr",
     "output_type": "stream",
     "text": [
      "C:\\Users\\hp\\AppData\\Local\\Temp/ipykernel_2296/768461938.py:6: FutureWarning: In a future version of pandas all arguments of DataFrame.drop except for the argument 'labels' will be keyword-only\n",
      "  x = np.array(df.drop(['label'], 1))  # Features\n"
     ]
    },
    {
     "data": {
      "text/html": [
       "<div>\n",
       "<style scoped>\n",
       "    .dataframe tbody tr th:only-of-type {\n",
       "        vertical-align: middle;\n",
       "    }\n",
       "\n",
       "    .dataframe tbody tr th {\n",
       "        vertical-align: top;\n",
       "    }\n",
       "\n",
       "    .dataframe thead th {\n",
       "        text-align: right;\n",
       "    }\n",
       "</style>\n",
       "<table border=\"1\" class=\"dataframe\">\n",
       "  <thead>\n",
       "    <tr style=\"text-align: right;\">\n",
       "      <th></th>\n",
       "      <th>ShortVolume</th>\n",
       "      <th>ShortExemptVolume</th>\n",
       "      <th>TotalVolume</th>\n",
       "      <th>label</th>\n",
       "    </tr>\n",
       "    <tr>\n",
       "      <th>Date</th>\n",
       "      <th></th>\n",
       "      <th></th>\n",
       "      <th></th>\n",
       "      <th></th>\n",
       "    </tr>\n",
       "  </thead>\n",
       "  <tbody>\n",
       "    <tr>\n",
       "      <th>2023-07-21</th>\n",
       "      <td>4624607.0</td>\n",
       "      <td>10988.0</td>\n",
       "      <td>5700386.0</td>\n",
       "      <td>798544.0</td>\n",
       "    </tr>\n",
       "    <tr>\n",
       "      <th>2023-07-24</th>\n",
       "      <td>397961.0</td>\n",
       "      <td>7729.0</td>\n",
       "      <td>1387130.0</td>\n",
       "      <td>411380.0</td>\n",
       "    </tr>\n",
       "    <tr>\n",
       "      <th>2023-07-25</th>\n",
       "      <td>510914.0</td>\n",
       "      <td>23079.0</td>\n",
       "      <td>2384889.0</td>\n",
       "      <td>285628.0</td>\n",
       "    </tr>\n",
       "    <tr>\n",
       "      <th>2023-07-26</th>\n",
       "      <td>798544.0</td>\n",
       "      <td>27005.0</td>\n",
       "      <td>3866577.0</td>\n",
       "      <td>208655.0</td>\n",
       "    </tr>\n",
       "    <tr>\n",
       "      <th>2023-07-27</th>\n",
       "      <td>411380.0</td>\n",
       "      <td>13657.0</td>\n",
       "      <td>2696068.0</td>\n",
       "      <td>117803.0</td>\n",
       "    </tr>\n",
       "  </tbody>\n",
       "</table>\n",
       "</div>"
      ],
      "text/plain": [
       "            ShortVolume  ShortExemptVolume  TotalVolume     label\n",
       "Date                                                             \n",
       "2023-07-21    4624607.0            10988.0    5700386.0  798544.0\n",
       "2023-07-24     397961.0             7729.0    1387130.0  411380.0\n",
       "2023-07-25     510914.0            23079.0    2384889.0  285628.0\n",
       "2023-07-26     798544.0            27005.0    3866577.0  208655.0\n",
       "2023-07-27     411380.0            13657.0    2696068.0  117803.0"
      ]
     },
     "execution_count": 9,
     "metadata": {},
     "output_type": "execute_result"
    }
   ],
   "source": [
    "forecast_col = 'ShortVolume'\n",
    "forecast_out = int(math.ceil(0.001 * len(df)))\n",
    "df['label'] = df[forecast_col].shift(-forecast_out)\n",
    "df.dropna(inplace=True)\n",
    "\n",
    "x = np.array(df.drop(['label'], 1))  # Features\n",
    "y = np.array(df['label'])  # Labels\n",
    "\n",
    "x = preprocessing.scale(x)\n",
    "y = np.array(df['label'])\n",
    "\n",
    "x_train, x_test, y_train, y_test = train_test_split(x, y, test_size=0.2)\n",
    "\n",
    "model = LinearRegression()\n",
    "model.fit(x_train, y_train)\n",
    "accuracy = model.score(x_test, y_test)\n",
    "\n",
    "print(\"Regression Model Accuracy:\", accuracy)\n",
    "# Printing forecast_out\n",
    "print(\"\\nForecast Period (forecast_out):\", forecast_out)\n",
    "df.tail()"
   ]
  },
  {
   "cell_type": "markdown",
   "id": "d1c0b777-7385-46c8-83aa-0ee9fbbf7723",
   "metadata": {},
   "source": [
    "<b><font size=\"20\">VISUALIZATION</font></b>"
   ]
  },
  {
   "cell_type": "code",
   "execution_count": 3,
   "id": "69a5b73a-5826-4be3-9a91-67265de7cb8a",
   "metadata": {},
   "outputs": [
    {
     "data": {
      "image/png": "[encoded data removed]",
      "text/plain": [
       "<Figure size 720x432 with 1 Axes>"
      ]
     },
     "metadata": {
      "needs_background": "light"
     },
     "output_type": "display_data"
    }
   ],
   "source": [
    "plt.figure(figsize=(10, 6))\n",
    "\n",
    "# Plotting actual ShortVolume data\n",
    "plt.plot(df.index, df[forecast_col], color='blue', label='Actual ShortVolume')\n",
    "\n",
    "# Plotting forecasted ShortVolume data with red dashed line\n",
    "plt.plot(df.index[-len(x_test):], clf.predict(x_test), color='red', linestyle='dashed', label='Forecasted ShortVolume')\n",
    "\n",
    "plt.title(\"Actual vs Forecasted ShortVolume\")\n",
    "plt.xlabel(\"Date\")\n",
    "plt.ylabel(\"ShortVolume\")\n",
    "plt.legend()\n",
    "plt.grid(True)\n",
    "plt.show()"
   ]
  }
 ],
 "metadata": {
  "kernelspec": {
   "display_name": "Python 3 (ipykernel)",
   "language": "python",
   "name": "python3"
  },
  "language_info": {
   "codemirror_mode": {
    "name": "ipython",
    "version": 3
   },
   "file_extension": ".py",
   "mimetype": "text/x-python",
   "name": "python",
   "nbconvert_exporter": "python",
   "pygments_lexer": "ipython3",
   "version": "3.9.7"
  }
 },
 "nbformat": 4,
 "nbformat_minor": 5
}
