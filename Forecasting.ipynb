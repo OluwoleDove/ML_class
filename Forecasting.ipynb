{
 "cells": [
  {
   "cell_type": "code",
   "execution_count": 2,
   "id": "8139116c-455d-4bda-be51-a0c076f5c33f",
   "metadata": {},
   "outputs": [
    {
     "name": "stdout",
     "output_type": "stream",
     "text": [
      "            ShortVolume  ShortExemptVolume  TotalVolume\n",
      "Date                                                   \n",
      "2023-07-19     778753.0            29786.0    1326802.0\n",
      "2023-07-20     693829.0            13363.0    1314326.0\n",
      "2023-07-21    4624607.0            10988.0    5700386.0\n",
      "2023-07-24     397961.0             7729.0    1387130.0\n",
      "2023-07-25     510914.0            23079.0    2384889.0\n",
      "\n",
      "            ShortVolume  ShortExemptVolume  TotalVolume      label\n",
      "Date                                                              \n",
      "2023-06-13     197376.0            11782.0    1098936.0   778753.0\n",
      "2023-06-14     285143.0            16145.0    1160235.0   693829.0\n",
      "2023-06-15     546704.0            18697.0    1456107.0  4624607.0\n",
      "2023-06-16     214829.0            15235.0     836536.0   397961.0\n",
      "2023-06-20     196090.0            11839.0     772958.0   510914.0\n",
      "24\n",
      "0.16568583979380624\n"
     ]
    },
    {
     "name": "stderr",
     "output_type": "stream",
     "text": [
      "C:\\Users\\hp\\AppData\\Local\\Temp/ipykernel_19500/2208208430.py:22: FutureWarning: In a future version of pandas all arguments of DataFrame.drop except for the argument 'labels' will be keyword-only\n",
      "  x = np.array(df.drop(['label'], 1)) #Features\n"
     ]
    }
   ],
   "source": [
    "import math\n",
    "import numpy as np\n",
    "import pandas as pd\n",
    "import quandl, math\n",
    "from sklearn import preprocessing, svm\n",
    "from sklearn.linear_model import LinearRegression\n",
    "from sklearn.model_selection import train_test_split\n",
    "\n",
    "df =  quandl.get(\"FINRA/FNYX_GOOGL\", authtoken=\"knso8NxM2d6x_JtssaqB\")\n",
    "\n",
    "forecast_col = 'ShortVolume'\n",
    "df.fillna(-99999, inplace=True) #outlier in your dataset\n",
    "#generally, you use regression to forcast\n",
    "print(df.tail())\n",
    "print()\n",
    "forecast_out = int(math.ceil(0.01*len(df)))\n",
    "df['label'] = df[forecast_col].shift(-forecast_out)\n",
    "df.dropna(inplace=True)\n",
    "print(df.tail())\n",
    "print(forecast_out)\n",
    "\n",
    "x = np.array(df.drop(['label'], 1)) #Features\n",
    "y = np.array(df['label']) #labels\n",
    "\n",
    "x = preprocessing.scale(x)\n",
    "y = np.array(df['label'])\n",
    "\n",
    "x_train, x_test, y_train, y_test = train_test_split(x, y, test_size=0.2)\n",
    "\n",
    "clf = LinearRegression()\n",
    "#clf = svm.SVR(kernel = 'poly')\n",
    "clf.fit(x_train, y_train)\n",
    "accuracy = clf.score(x_test, y_test)\n",
    "\n",
    "print(accuracy)"
   ]
  },
  {
   "cell_type": "code",
   "execution_count": 6,
   "id": "36972f3a-0414-4328-a4c5-0bf07ca8d638",
   "metadata": {},
   "outputs": [
    {
     "name": "stderr",
     "output_type": "stream",
     "text": [
      "C:\\Users\\hp\\AppData\\Local\\Temp/ipykernel_19500/3637084939.py:21: FutureWarning: In a future version of pandas all arguments of DataFrame.drop except for the argument 'labels' will be keyword-only\n",
      "  x = np.array(df.drop(['label'], 1))  # Features\n"
     ]
    },
    {
     "name": "stdout",
     "output_type": "stream",
     "text": [
      "Regression Model Accuracy: 0.21523103108073205\n"
     ]
    },
    {
     "data": {
      "image/png": "[encoded data removed]",
      "text/plain": [
       "<Figure size 720x432 with 1 Axes>"
      ]
     },
     "metadata": {
      "needs_background": "light"
     },
     "output_type": "display_data"
    },
    {
     "name": "stdout",
     "output_type": "stream",
     "text": [
      "\n",
      "Dataset Tail:\n",
      "            ShortVolume  ShortExemptVolume  TotalVolume      label\n",
      "Date                                                              \n",
      "2023-06-13     197376.0            11782.0    1098936.0   778753.0\n",
      "2023-06-14     285143.0            16145.0    1160235.0   693829.0\n",
      "2023-06-15     546704.0            18697.0    1456107.0  4624607.0\n",
      "2023-06-16     214829.0            15235.0     836536.0   397961.0\n",
      "2023-06-20     196090.0            11839.0     772958.0   510914.0\n",
      "\n",
      "Forecast Period (forecast_out): 24\n"
     ]
    }
   ],
   "source": [
    "import numpy as np\n",
    "import pandas as pd\n",
    "import quandl\n",
    "import math\n",
    "from sklearn import preprocessing\n",
    "from sklearn.linear_model import LinearRegression\n",
    "from sklearn.model_selection import train_test_split\n",
    "import matplotlib.pyplot as plt\n",
    "\n",
    "# Fetching data using Quandl\n",
    "df = quandl.get(\"FINRA/FNYX_GOOGL\", authtoken=\"knso8NxM2d6x_JtssaqB\")\n",
    "\n",
    "forecast_col = 'ShortVolume'\n",
    "df.fillna(-99999, inplace=True)  # Handling missing values (outliers) in the dataset\n",
    "\n",
    "# Generate forecast\n",
    "forecast_out = int(math.ceil(0.9 * len(df)))\n",
    "df['label'] = df[forecast_col].shift(-forecast_out)\n",
    "df.dropna(inplace=True)\n",
    "\n",
    "x = np.array(df.drop(['label'], 1))  # Features\n",
    "y = np.array(df['label'])  # Labels\n",
    "\n",
    "x = preprocessing.scale(x)\n",
    "y = np.array(df['label'])\n",
    "\n",
    "x_train, x_test, y_train, y_test = train_test_split(x, y, test_size=0.2)\n",
    "\n",
    "clf = LinearRegression()\n",
    "clf.fit(x_train, y_train)\n",
    "accuracy = clf.score(x_test, y_test)\n",
    "\n",
    "print(\"Regression Model Accuracy:\", accuracy)\n",
    "\n",
    "# Visualization\n",
    "plt.figure(figsize=(10, 6))\n",
    "\n",
    "# Plotting actual ShortVolume data\n",
    "plt.plot(df.index, df[forecast_col], color='blue', label='Actual ShortVolume')\n",
    "\n",
    "# Plotting forecasted ShortVolume data with red dashed line\n",
    "plt.plot(df.index[-len(x_test):], clf.predict(x_test), color='red', linestyle='dashed', label='Forecasted ShortVolume')\n",
    "\n",
    "plt.title(\"Actual vs Forecasted ShortVolume\")\n",
    "plt.xlabel(\"Date\")\n",
    "plt.ylabel(\"ShortVolume\")\n",
    "plt.legend()\n",
    "plt.grid(True)\n",
    "plt.show()\n",
    "\n",
    "# Printing the tail of the dataset\n",
    "print(\"\\nDataset Tail:\")\n",
    "print(df.tail())\n",
    "\n",
    "# Printing forecast_out\n",
    "print(\"\\nForecast Period (forecast_out):\", forecast_out)\n"
   ]
  },
  {
   "cell_type": "code",
   "execution_count": null,
   "id": "2df9c6f2-2738-443e-bca9-0878236c81b5",
   "metadata": {},
   "outputs": [],
   "source": []
  }
 ],
 "metadata": {
  "kernelspec": {
   "display_name": "Python 3 (ipykernel)",
   "language": "python",
   "name": "python3"
  },
  "language_info": {
   "codemirror_mode": {
    "name": "ipython",
    "version": 3
   },
   "file_extension": ".py",
   "mimetype": "text/x-python",
   "name": "python",
   "nbconvert_exporter": "python",
   "pygments_lexer": "ipython3",
   "version": "3.9.7"
  }
 },
 "nbformat": 4,
 "nbformat_minor": 5
}
